{
 "cells": [
  {
   "cell_type": "code",
   "execution_count": 1,
   "id": "7a315166",
   "metadata": {
    "scrolled": false
   },
   "outputs": [
    {
     "ename": "FileNotFoundError",
     "evalue": "[Errno 2] No such file or directory: '/Users/jimmy/Desktop/NYUCS/AIfSR/2022-spring-unsupervised-learning/src/AIfSR_Trajectory_Analysis/LR_V1.2.pkl'",
     "output_type": "error",
     "traceback": [
      "\u001B[0;31m---------------------------------------------------------------------------\u001B[0m",
      "\u001B[0;31mFileNotFoundError\u001B[0m                         Traceback (most recent call last)",
      "\u001B[0;32m/var/folders/j2/b3y9k06d63j3c27nmnlr7h580000gn/T/ipykernel_9578/4205246766.py\u001B[0m in \u001B[0;36m<module>\u001B[0;34m\u001B[0m\n\u001B[1;32m      8\u001B[0m \u001B[0;32mfrom\u001B[0m \u001B[0mAIfSR_Trajectory_Analysis\u001B[0m\u001B[0;34m.\u001B[0m\u001B[0malgorithmanalysis\u001B[0m\u001B[0;34m.\u001B[0m\u001B[0mCreateAlgorithmAnalysisMD\u001B[0m \u001B[0;32mimport\u001B[0m \u001B[0mcreateAnalysisDocument\u001B[0m\u001B[0;34m\u001B[0m\u001B[0;34m\u001B[0m\u001B[0m\n\u001B[1;32m      9\u001B[0m \u001B[0;34m\u001B[0m\u001B[0m\n\u001B[0;32m---> 10\u001B[0;31m \u001B[0mcreateAnalysisDocument\u001B[0m\u001B[0;34m(\u001B[0m\u001B[0mOvRLRPipelineFactory\u001B[0m\u001B[0;34m(\u001B[0m\u001B[0;34m)\u001B[0m\u001B[0;34m,\u001B[0m \u001B[0;34m\"LR_V1.2\"\u001B[0m\u001B[0;34m)\u001B[0m\u001B[0;34m\u001B[0m\u001B[0;34m\u001B[0m\u001B[0m\n\u001B[0m",
      "\u001B[0;32m~/Desktop/NYUCS/AIfSR/2022-spring-unsupervised-learning/src/AIfSR_Trajectory_Analysis/ml_pipelines/OvRLRPipelineFactory.py\u001B[0m in \u001B[0;36m__init__\u001B[0;34m(self)\u001B[0m\n\u001B[1;32m     21\u001B[0m         \u001B[0mself\u001B[0m\u001B[0;34m.\u001B[0m\u001B[0m_featureStandardizer\u001B[0m \u001B[0;34m=\u001B[0m \u001B[0mExtract40ValsRegularInterval\u001B[0m\u001B[0;34m(\u001B[0m\u001B[0;34m)\u001B[0m\u001B[0;34m\u001B[0m\u001B[0;34m\u001B[0m\u001B[0m\n\u001B[1;32m     22\u001B[0m         \u001B[0mself\u001B[0m\u001B[0;34m.\u001B[0m\u001B[0m_algorithm\u001B[0m \u001B[0;34m=\u001B[0m \u001B[0mOvRLogisticRegression\u001B[0m\u001B[0;34m(\u001B[0m\u001B[0;34m)\u001B[0m\u001B[0;34m\u001B[0m\u001B[0;34m\u001B[0m\u001B[0m\n\u001B[0;32m---> 23\u001B[0;31m         \u001B[0mself\u001B[0m\u001B[0;34m.\u001B[0m\u001B[0m_algorithm\u001B[0m\u001B[0;34m.\u001B[0m\u001B[0mload\u001B[0m\u001B[0;34m(\u001B[0m\u001B[0;34m\"AIfSR_Trajectory_Analysis\"\u001B[0m\u001B[0;34m,\u001B[0m \u001B[0;34m\"LR_V1.2.pkl\"\u001B[0m\u001B[0;34m)\u001B[0m\u001B[0;34m\u001B[0m\u001B[0;34m\u001B[0m\u001B[0m\n\u001B[0m\u001B[1;32m     24\u001B[0m         \u001B[0msuper\u001B[0m\u001B[0;34m(\u001B[0m\u001B[0;34m)\u001B[0m\u001B[0;34m.\u001B[0m\u001B[0m__init__\u001B[0m\u001B[0;34m(\u001B[0m\u001B[0;34m)\u001B[0m\u001B[0;34m\u001B[0m\u001B[0;34m\u001B[0m\u001B[0m\n\u001B[1;32m     25\u001B[0m \u001B[0;34m\u001B[0m\u001B[0m\n",
      "\u001B[0;32m~/Desktop/NYUCS/AIfSR/2022-spring-unsupervised-learning/src/AIfSR_Trajectory_Analysis/algorithms/OvRLogisticRegression.py\u001B[0m in \u001B[0;36mload\u001B[0;34m(self, directory, pklFile)\u001B[0m\n\u001B[1;32m     51\u001B[0m \u001B[0;34m\u001B[0m\u001B[0m\n\u001B[1;32m     52\u001B[0m     \u001B[0;32mdef\u001B[0m \u001B[0mload\u001B[0m\u001B[0;34m(\u001B[0m\u001B[0mself\u001B[0m\u001B[0;34m,\u001B[0m \u001B[0mdirectory\u001B[0m\u001B[0;34m:\u001B[0m \u001B[0mstr\u001B[0m\u001B[0;34m,\u001B[0m \u001B[0mpklFile\u001B[0m\u001B[0;34m:\u001B[0m \u001B[0mstr\u001B[0m\u001B[0;34m)\u001B[0m \u001B[0;34m->\u001B[0m \u001B[0;32mNone\u001B[0m\u001B[0;34m:\u001B[0m\u001B[0;34m\u001B[0m\u001B[0;34m\u001B[0m\u001B[0m\n\u001B[0;32m---> 53\u001B[0;31m         \u001B[0mfile\u001B[0m \u001B[0;34m=\u001B[0m \u001B[0mresources\u001B[0m\u001B[0;34m.\u001B[0m\u001B[0mread_binary\u001B[0m\u001B[0;34m(\u001B[0m\u001B[0mdirectory\u001B[0m\u001B[0;34m,\u001B[0m \u001B[0mpklFile\u001B[0m\u001B[0;34m)\u001B[0m\u001B[0;34m\u001B[0m\u001B[0;34m\u001B[0m\u001B[0m\n\u001B[0m\u001B[1;32m     54\u001B[0m         \u001B[0mmodels\u001B[0m \u001B[0;34m=\u001B[0m \u001B[0mpickle\u001B[0m\u001B[0;34m.\u001B[0m\u001B[0mloads\u001B[0m\u001B[0;34m(\u001B[0m\u001B[0mfile\u001B[0m\u001B[0;34m)\u001B[0m\u001B[0;34m\u001B[0m\u001B[0;34m\u001B[0m\u001B[0m\n\u001B[1;32m     55\u001B[0m         \u001B[0mself\u001B[0m\u001B[0;34m.\u001B[0m\u001B[0m_BALmodel\u001B[0m \u001B[0;34m=\u001B[0m \u001B[0mmodels\u001B[0m\u001B[0;34m[\u001B[0m\u001B[0;36m0\u001B[0m\u001B[0;34m]\u001B[0m\u001B[0;34m\u001B[0m\u001B[0;34m\u001B[0m\u001B[0m\n",
      "\u001B[0;32m~/opt/anaconda3/lib/python3.9/importlib/resources.py\u001B[0m in \u001B[0;36mread_binary\u001B[0;34m(package, resource)\u001B[0m\n\u001B[1;32m    124\u001B[0m \u001B[0;32mdef\u001B[0m \u001B[0mread_binary\u001B[0m\u001B[0;34m(\u001B[0m\u001B[0mpackage\u001B[0m\u001B[0;34m:\u001B[0m \u001B[0mPackage\u001B[0m\u001B[0;34m,\u001B[0m \u001B[0mresource\u001B[0m\u001B[0;34m:\u001B[0m \u001B[0mResource\u001B[0m\u001B[0;34m)\u001B[0m \u001B[0;34m->\u001B[0m \u001B[0mbytes\u001B[0m\u001B[0;34m:\u001B[0m\u001B[0;34m\u001B[0m\u001B[0;34m\u001B[0m\u001B[0m\n\u001B[1;32m    125\u001B[0m     \u001B[0;34m\"\"\"Return the binary contents of the resource.\"\"\"\u001B[0m\u001B[0;34m\u001B[0m\u001B[0;34m\u001B[0m\u001B[0m\n\u001B[0;32m--> 126\u001B[0;31m     \u001B[0;32mwith\u001B[0m \u001B[0mopen_binary\u001B[0m\u001B[0;34m(\u001B[0m\u001B[0mpackage\u001B[0m\u001B[0;34m,\u001B[0m \u001B[0mresource\u001B[0m\u001B[0;34m)\u001B[0m \u001B[0;32mas\u001B[0m \u001B[0mfp\u001B[0m\u001B[0;34m:\u001B[0m\u001B[0;34m\u001B[0m\u001B[0;34m\u001B[0m\u001B[0m\n\u001B[0m\u001B[1;32m    127\u001B[0m         \u001B[0;32mreturn\u001B[0m \u001B[0mfp\u001B[0m\u001B[0;34m.\u001B[0m\u001B[0mread\u001B[0m\u001B[0;34m(\u001B[0m\u001B[0;34m)\u001B[0m\u001B[0;34m\u001B[0m\u001B[0;34m\u001B[0m\u001B[0m\n\u001B[1;32m    128\u001B[0m \u001B[0;34m\u001B[0m\u001B[0m\n",
      "\u001B[0;32m~/opt/anaconda3/lib/python3.9/importlib/resources.py\u001B[0m in \u001B[0;36mopen_binary\u001B[0;34m(package, resource)\u001B[0m\n\u001B[1;32m     89\u001B[0m     \u001B[0mreader\u001B[0m \u001B[0;34m=\u001B[0m \u001B[0m_get_resource_reader\u001B[0m\u001B[0;34m(\u001B[0m\u001B[0mpackage\u001B[0m\u001B[0;34m)\u001B[0m\u001B[0;34m\u001B[0m\u001B[0;34m\u001B[0m\u001B[0m\n\u001B[1;32m     90\u001B[0m     \u001B[0;32mif\u001B[0m \u001B[0mreader\u001B[0m \u001B[0;32mis\u001B[0m \u001B[0;32mnot\u001B[0m \u001B[0;32mNone\u001B[0m\u001B[0;34m:\u001B[0m\u001B[0;34m\u001B[0m\u001B[0;34m\u001B[0m\u001B[0m\n\u001B[0;32m---> 91\u001B[0;31m         \u001B[0;32mreturn\u001B[0m \u001B[0mreader\u001B[0m\u001B[0;34m.\u001B[0m\u001B[0mopen_resource\u001B[0m\u001B[0;34m(\u001B[0m\u001B[0mresource\u001B[0m\u001B[0;34m)\u001B[0m\u001B[0;34m\u001B[0m\u001B[0;34m\u001B[0m\u001B[0m\n\u001B[0m\u001B[1;32m     92\u001B[0m     absolute_package_path = os.path.abspath(\n\u001B[1;32m     93\u001B[0m         package.__spec__.origin or 'non-existent file')\n",
      "\u001B[0;32m~/opt/anaconda3/lib/python3.9/importlib/_bootstrap_external.py\u001B[0m in \u001B[0;36mopen_resource\u001B[0;34m(self, resource)\u001B[0m\n",
      "\u001B[0;31mFileNotFoundError\u001B[0m: [Errno 2] No such file or directory: '/Users/jimmy/Desktop/NYUCS/AIfSR/2022-spring-unsupervised-learning/src/AIfSR_Trajectory_Analysis/LR_V1.2.pkl'"
     ]
    }
   ],
   "source": [
    "import sys\n",
    "import os\n",
    "finalIndex = os.getcwd().split(\"/\").index(\"AIfSR_Trajectory_Analysis\")\n",
    "directory =  \"/\".join(os.getcwd().split(\"/\")[:finalIndex])\n",
    "sys.path.insert(1, directory)\n",
    "from AIfSR_Trajectory_Analysis.ml_pipelines.MultiLRPipelineFactory import MultiLRPipelineFactory\n",
    "from AIfSR_Trajectory_Analysis.ml_pipelines.OvRLRPipelineFactory import OvRLRPipelineFactory\n",
    "from AIfSR_Trajectory_Analysis.algorithmanalysis.CreateAlgorithmAnalysisMD import createAnalysisDocument\n",
    "\n",
    "createAnalysisDocument(OvRLRPipelineFactory(), \"LR_V1.2\")\n"
   ]
  },
  {
   "cell_type": "code",
   "execution_count": null,
   "id": "33d8779a",
   "metadata": {},
   "outputs": [],
   "source": []
  }
 ],
 "metadata": {
  "hide_input": false,
  "kernelspec": {
   "display_name": "Python 3 (ipykernel)",
   "language": "python",
   "name": "python3"
  },
  "language_info": {
   "codemirror_mode": {
    "name": "ipython",
    "version": 3
   },
   "file_extension": ".py",
   "mimetype": "text/x-python",
   "name": "python",
   "nbconvert_exporter": "python",
   "pygments_lexer": "ipython3",
   "version": "3.9.7"
  }
 },
 "nbformat": 4,
 "nbformat_minor": 5
}