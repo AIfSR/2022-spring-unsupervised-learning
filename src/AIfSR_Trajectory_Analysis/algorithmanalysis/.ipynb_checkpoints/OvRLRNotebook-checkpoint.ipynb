{
 "cells": [
  {
   "cell_type": "code",
   "execution_count": 1,
   "id": "3aae55ca",
   "metadata": {},
   "outputs": [
    {
     "ename": "TypeError",
     "evalue": "'MultiLRPipelineFactory' object is not callable",
     "output_type": "error",
     "traceback": [
      "\u001b[0;31m---------------------------------------------------------------------------\u001b[0m",
      "\u001b[0;31mTypeError\u001b[0m                                 Traceback (most recent call last)",
      "\u001b[0;32m/var/folders/j2/b3y9k06d63j3c27nmnlr7h580000gn/T/ipykernel_73699/3134980427.py\u001b[0m in \u001b[0;36m<module>\u001b[0;34m\u001b[0m\n\u001b[1;32m      8\u001b[0m \u001b[0;32mfrom\u001b[0m \u001b[0mAIfSR_Trajectory_Analysis\u001b[0m\u001b[0;34m.\u001b[0m\u001b[0malgorithmanalysis\u001b[0m\u001b[0;34m.\u001b[0m\u001b[0mCreateAlgorithmAnalysisMD\u001b[0m \u001b[0;32mimport\u001b[0m \u001b[0mcreateAnalysisDocument\u001b[0m\u001b[0;34m\u001b[0m\u001b[0;34m\u001b[0m\u001b[0m\n\u001b[1;32m      9\u001b[0m \u001b[0;34m\u001b[0m\u001b[0m\n\u001b[0;32m---> 10\u001b[0;31m \u001b[0mcreateAnalysisDocument\u001b[0m\u001b[0;34m(\u001b[0m\u001b[0mMultiLRPipelineFactory\u001b[0m\u001b[0;34m(\u001b[0m\u001b[0;34m)\u001b[0m\u001b[0;34m,\u001b[0m \u001b[0;34m\"MultiLR_20\"\u001b[0m\u001b[0;34m,\u001b[0m \u001b[0;36m20\u001b[0m\u001b[0;34m)\u001b[0m\u001b[0;34m\u001b[0m\u001b[0;34m\u001b[0m\u001b[0m\n\u001b[0m",
      "\u001b[0;32m~/Desktop/NYUCS/AIfSR/2022-spring-unsupervised-learning/src/AIfSR_Trajectory_Analysis/algorithmanalysis/CreateAlgorithmAnalysisMD.py\u001b[0m in \u001b[0;36mcreateAnalysisDocument\u001b[0;34m(mlPipeline, nameToSaveAlgoAs, numOfExtractedFeatures)\u001b[0m\n\u001b[1;32m     90\u001b[0m \u001b[0;34m\u001b[0m\u001b[0m\n\u001b[1;32m     91\u001b[0m \u001b[0;32mdef\u001b[0m \u001b[0mcreateAnalysisDocument\u001b[0m\u001b[0;34m(\u001b[0m\u001b[0mmlPipeline\u001b[0m\u001b[0;34m:\u001b[0m\u001b[0mMLPipelineBase\u001b[0m\u001b[0;34m,\u001b[0m \u001b[0mnameToSaveAlgoAs\u001b[0m\u001b[0;34m:\u001b[0m\u001b[0mstr\u001b[0m\u001b[0;34m=\u001b[0m\u001b[0;32mNone\u001b[0m\u001b[0;34m,\u001b[0m \u001b[0mnumOfExtractedFeatures\u001b[0m\u001b[0;34m:\u001b[0m\u001b[0mint\u001b[0m \u001b[0;34m=\u001b[0m \u001b[0;36m40\u001b[0m\u001b[0;34m)\u001b[0m\u001b[0;34m:\u001b[0m\u001b[0;34m\u001b[0m\u001b[0;34m\u001b[0m\u001b[0m\n\u001b[0;32m---> 92\u001b[0;31m     \u001b[0mmlPipeline\u001b[0m \u001b[0;34m=\u001b[0m \u001b[0mmlPipeline\u001b[0m\u001b[0;34m(\u001b[0m\u001b[0mnumOfExtractedFeatures\u001b[0m\u001b[0;34m)\u001b[0m\u001b[0;34m\u001b[0m\u001b[0;34m\u001b[0m\u001b[0m\n\u001b[0m\u001b[1;32m     93\u001b[0m     \u001b[0mnormalizeFeatures\u001b[0m \u001b[0;34m=\u001b[0m \u001b[0mmlPipeline\u001b[0m\u001b[0;34m.\u001b[0m\u001b[0mgetFeatureNormalizer\u001b[0m\u001b[0;34m(\u001b[0m\u001b[0;34m)\u001b[0m\u001b[0;34m\u001b[0m\u001b[0;34m\u001b[0m\u001b[0m\n\u001b[1;32m     94\u001b[0m     \u001b[0mstandardizeFeatures\u001b[0m \u001b[0;34m=\u001b[0m \u001b[0mmlPipeline\u001b[0m\u001b[0;34m.\u001b[0m\u001b[0mgetFeatureStandardizer\u001b[0m\u001b[0;34m(\u001b[0m\u001b[0;34m)\u001b[0m\u001b[0;34m\u001b[0m\u001b[0;34m\u001b[0m\u001b[0m\n",
      "\u001b[0;31mTypeError\u001b[0m: 'MultiLRPipelineFactory' object is not callable"
     ]
    }
   ],
   "source": [
    "import sys\n",
    "import os\n",
    "finalIndex = os.getcwd().split(\"/\").index(\"AIfSR_Trajectory_Analysis\")\n",
    "directory =  \"/\".join(os.getcwd().split(\"/\")[:finalIndex])\n",
    "sys.path.insert(1, directory)\n",
    "from AIfSR_Trajectory_Analysis.ml_pipelines.OvRLRPipelineFactory import OvRLRPipelineFactory\n",
    "from AIfSR_Trajectory_Analysis.ml_pipelines.MultiLRPipelineFactory import MultiLRPipelineFactory\n",
    "from AIfSR_Trajectory_Analysis.algorithmanalysis.CreateAlgorithmAnalysisMD import createAnalysisDocument\n",
    "\n",
    "createAnalysisDocument(MultiLRPipelineFactory(), 20, \"MultiLR_20\")\n"
   ]
  },
  {
   "cell_type": "code",
   "execution_count": null,
   "id": "aae53f65",
   "metadata": {},
   "outputs": [],
   "source": []
  },
  {
   "cell_type": "code",
   "execution_count": null,
   "id": "67950a58",
   "metadata": {},
   "outputs": [],
   "source": []
  }
 ],
 "metadata": {
  "hide_input": false,
  "kernelspec": {
   "display_name": "Python 3 (ipykernel)",
   "language": "python",
   "name": "python3"
  },
  "language_info": {
   "codemirror_mode": {
    "name": "ipython",
    "version": 3
   },
   "file_extension": ".py",
   "mimetype": "text/x-python",
   "name": "python",
   "nbconvert_exporter": "python",
   "pygments_lexer": "ipython3",
   "version": "3.9.7"
  }
 },
 "nbformat": 4,
 "nbformat_minor": 5
}
