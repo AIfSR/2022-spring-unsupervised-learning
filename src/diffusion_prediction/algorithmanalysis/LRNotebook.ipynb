{
 "cells": [
  {
   "cell_type": "code",
   "execution_count": 1,
   "id": "7a315166",
   "metadata": {
    "scrolled": false
   },
   "outputs": [
    {
     "name": "stdout",
     "output_type": "stream",
     "text": [
      "self._dataFilePath:  /Users/seandoyle/git/2022-spring-unsupervised-learning/src/diffusion_prediction/data/data.pkl\n"
     ]
    },
    {
     "ename": "ModuleNotFoundError",
     "evalue": "No module named 'features'",
     "output_type": "error",
     "traceback": [
      "\u001b[0;31m---------------------------------------------------------------------------\u001b[0m",
      "\u001b[0;31mModuleNotFoundError\u001b[0m                       Traceback (most recent call last)",
      "\u001b[0;32m/var/folders/y9/ws4wqjr135zg_006_wrlcxt00000gn/T/ipykernel_88027/706949016.py\u001b[0m in \u001b[0;36m<module>\u001b[0;34m\u001b[0m\n\u001b[1;32m      7\u001b[0m \u001b[0;32mfrom\u001b[0m \u001b[0mdiffusion_prediction\u001b[0m\u001b[0;34m.\u001b[0m\u001b[0malgorithmanalysis\u001b[0m\u001b[0;34m.\u001b[0m\u001b[0mCreateAlgorithmAnalysisMD\u001b[0m \u001b[0;32mimport\u001b[0m \u001b[0mcreateAnalysisDocument\u001b[0m\u001b[0;34m\u001b[0m\u001b[0;34m\u001b[0m\u001b[0m\n\u001b[1;32m      8\u001b[0m \u001b[0;34m\u001b[0m\u001b[0m\n\u001b[0;32m----> 9\u001b[0;31m \u001b[0mcreateAnalysisDocument\u001b[0m\u001b[0;34m(\u001b[0m\u001b[0mLRPipelineFactory\u001b[0m\u001b[0;34m(\u001b[0m\u001b[0;34m)\u001b[0m\u001b[0;34m)\u001b[0m\u001b[0;34m\u001b[0m\u001b[0;34m\u001b[0m\u001b[0m\n\u001b[0m",
      "\u001b[0;32m~/git/2022-spring-unsupervised-learning/src/diffusion_prediction/algorithmanalysis/CreateAlgorithmAnalysisMD.py\u001b[0m in \u001b[0;36mcreateAnalysisDocument\u001b[0;34m(mlPipeline)\u001b[0m\n\u001b[1;32m    116\u001b[0m     \u001b[0msyntheticMSDFeatures\u001b[0m \u001b[0;34m=\u001b[0m \u001b[0mSyntheticMSDFeatures\u001b[0m\u001b[0;34m(\u001b[0m\u001b[0;34m)\u001b[0m\u001b[0;34m\u001b[0m\u001b[0;34m\u001b[0m\u001b[0m\n\u001b[1;32m    117\u001b[0m     \u001b[0mloaded_labels\u001b[0m \u001b[0;34m=\u001b[0m \u001b[0msyntheticMSDFeatures\u001b[0m\u001b[0;34m.\u001b[0m\u001b[0mgetLabels\u001b[0m\u001b[0;34m(\u001b[0m\u001b[0;34m)\u001b[0m\u001b[0;34m\u001b[0m\u001b[0;34m\u001b[0m\u001b[0m\n\u001b[0;32m--> 118\u001b[0;31m     \u001b[0mloaded_dataSet\u001b[0m \u001b[0;34m=\u001b[0m \u001b[0msyntheticMSDFeatures\u001b[0m\u001b[0;34m.\u001b[0m\u001b[0mgetDatasetOfFeatures\u001b[0m\u001b[0;34m(\u001b[0m\u001b[0;34m)\u001b[0m\u001b[0;34m\u001b[0m\u001b[0;34m\u001b[0m\u001b[0m\n\u001b[0m\u001b[1;32m    119\u001b[0m     \u001b[0mdataSet\u001b[0m \u001b[0;34m=\u001b[0m \u001b[0mnormalizeFeatures\u001b[0m\u001b[0;34m.\u001b[0m\u001b[0mnormalizeToSetOfFeatures\u001b[0m\u001b[0;34m(\u001b[0m\u001b[0mloaded_dataSet\u001b[0m\u001b[0;34m)\u001b[0m\u001b[0;34m\u001b[0m\u001b[0;34m\u001b[0m\u001b[0m\n\u001b[1;32m    120\u001b[0m     \u001b[0mdataSet\u001b[0m \u001b[0;34m=\u001b[0m \u001b[0mstandardizeFeatures\u001b[0m\u001b[0;34m.\u001b[0m\u001b[0mstandardizeSetOfFeatures\u001b[0m\u001b[0;34m(\u001b[0m\u001b[0mdataSet\u001b[0m\u001b[0;34m)\u001b[0m\u001b[0;34m\u001b[0m\u001b[0;34m\u001b[0m\u001b[0m\n",
      "\u001b[0;32m~/git/2022-spring-unsupervised-learning/src/diffusion_prediction/datasetfeatures/SyntheticMSDFeatures.py\u001b[0m in \u001b[0;36mgetDatasetOfFeatures\u001b[0;34m(self)\u001b[0m\n\u001b[1;32m     37\u001b[0m         \u001b[0mprint\u001b[0m\u001b[0;34m(\u001b[0m\u001b[0;34m\"self._dataFilePath: \"\u001b[0m\u001b[0;34m,\u001b[0m \u001b[0mself\u001b[0m\u001b[0;34m.\u001b[0m\u001b[0m_dataFilePath\u001b[0m\u001b[0;34m)\u001b[0m\u001b[0;34m\u001b[0m\u001b[0;34m\u001b[0m\u001b[0m\n\u001b[1;32m     38\u001b[0m         \u001b[0mdataFile\u001b[0m \u001b[0;34m=\u001b[0m \u001b[0mopen\u001b[0m\u001b[0;34m(\u001b[0m\u001b[0mself\u001b[0m\u001b[0;34m.\u001b[0m\u001b[0m_dataFilePath\u001b[0m\u001b[0;34m,\u001b[0m \u001b[0;34m\"rb\"\u001b[0m\u001b[0;34m)\u001b[0m\u001b[0;34m\u001b[0m\u001b[0;34m\u001b[0m\u001b[0m\n\u001b[0;32m---> 39\u001b[0;31m         \u001b[0mloaded_dataSet\u001b[0m \u001b[0;34m=\u001b[0m \u001b[0mpickle\u001b[0m\u001b[0;34m.\u001b[0m\u001b[0mload\u001b[0m\u001b[0;34m(\u001b[0m\u001b[0mdataFile\u001b[0m\u001b[0;34m)\u001b[0m\u001b[0;34m\u001b[0m\u001b[0;34m\u001b[0m\u001b[0m\n\u001b[0m\u001b[1;32m     40\u001b[0m         \u001b[0mdataFile\u001b[0m\u001b[0;34m.\u001b[0m\u001b[0mclose\u001b[0m\u001b[0;34m(\u001b[0m\u001b[0;34m)\u001b[0m\u001b[0;34m\u001b[0m\u001b[0;34m\u001b[0m\u001b[0m\n\u001b[1;32m     41\u001b[0m         \u001b[0;32mreturn\u001b[0m \u001b[0mloaded_dataSet\u001b[0m\u001b[0;34m\u001b[0m\u001b[0;34m\u001b[0m\u001b[0m\n",
      "\u001b[0;31mModuleNotFoundError\u001b[0m: No module named 'features'"
     ]
    }
   ],
   "source": [
    "import sys\n",
    "import os\n",
    "finalIndex = os.getcwd().split(\"/\").index(\"diffusion_prediction\")\n",
    "directory =  \"/\".join(os.getcwd().split(\"/\")[:finalIndex])\n",
    "sys.path.insert(1, directory)\n",
    "from diffusion_prediction.ml_pipelines.LRPipelineFactory import LRPipelineFactory\n",
    "from diffusion_prediction.algorithmanalysis.CreateAlgorithmAnalysisMD import createAnalysisDocument\n",
    "\n",
    "createAnalysisDocument(LRPipelineFactory())\n"
   ]
  }
 ],
 "metadata": {
  "hide_input": false,
  "kernelspec": {
   "display_name": "Python 3 (ipykernel)",
   "language": "python",
   "name": "python3"
  },
  "language_info": {
   "codemirror_mode": {
    "name": "ipython",
    "version": 3
   },
   "file_extension": ".py",
   "mimetype": "text/x-python",
   "name": "python",
   "nbconvert_exporter": "python",
   "pygments_lexer": "ipython3",
   "version": "3.9.6"
  }
 },
 "nbformat": 4,
 "nbformat_minor": 5
}
