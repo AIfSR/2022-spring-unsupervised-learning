{
 "cells": [
  {
   "cell_type": "code",
   "execution_count": 1,
   "id": "3125be05",
   "metadata": {},
   "outputs": [],
   "source": [
    "import numpy as np\n",
    "import pickle\n",
    "from features.ThreeDMSDFeatureCreator import ThreeDMSDFeatureCreator\n",
    "from normalizefeatures.DoNothingNormalization import DoNothingNormalization\n",
    "from datasets.SyntheticDatasetSubset import SyntheticDatasetSubset\n",
    "from datasets.SyntheticDataset import SyntheticDataset\n",
    "import sklearn.linear_model\n",
    "from algorithms.LogisticRegression import LogisticRegression\n",
    "from sklearn.model_selection import train_test_split\n",
    "from sklearn import metrics\n",
    "from sklearn.model_selection import RepeatedStratifiedKFold\n",
    "from sklearn.model_selection import cross_val_score\n",
    "\n",
    "\n",
    "from standardizefeaturesnumber.Extract40ValsRegularInterval import Extract40ValsRegularInterval"
   ]
  },
  {
   "cell_type": "code",
   "execution_count": 2,
   "id": "37e789fd",
   "metadata": {},
   "outputs": [],
   "source": [
    "dataset = SyntheticDataset()\n",
    "categories = dataset.getCategoriesWithPoints()\n",
    "\n",
    "normalizeFeatures = DoNothingNormalization()\n",
    "standardizeFeatures = Extract40ValsRegularInterval()\n",
    "featureCreator = ThreeDMSDFeatureCreator()\n",
    "algorithm = LogisticRegression()"
   ]
  },
  {
   "cell_type": "code",
   "execution_count": 3,
   "id": "a2a4c504",
   "metadata": {},
   "outputs": [],
   "source": [
    "label_file = open(\"label.pkl\", \"rb\")\n",
    "loaded_labels = pickle.load(label_file)\n",
    "label_file.close()\n",
    "training_file = open(\"training.pkl\", \"rb\")\n",
    "loaded_trainingSet = pickle.load(training_file)\n",
    "training_file.close()"
   ]
  },
  {
   "cell_type": "code",
   "execution_count": 4,
   "id": "abaa56ec",
   "metadata": {},
   "outputs": [],
   "source": [
    "loaded_trainingSet = normalizeFeatures.normalizeToSetOfFeatures(loaded_trainingSet)\n",
    "loaded_trainingSet = standardizeFeatures.standardizeSetOfFeatures(loaded_trainingSet)\n",
    "X_train, X_rem, y_train, y_rem = train_test_split(loaded_trainingSet, loaded_labels, train_size=0.6)\n",
    "test_size = 0.5\n",
    "X_valid, X_test, y_valid, y_test = train_test_split(X_rem, y_rem, test_size=0.5)"
   ]
  },
  {
   "cell_type": "code",
   "execution_count": 5,
   "id": "8f2ec0ac",
   "metadata": {},
   "outputs": [],
   "source": [
    "y_train_final = []\n",
    "for i in y_train:\n",
    "    if i == [1.0, 0.0, 0.0, 0.0]:\n",
    "        y_train_final.append(1)\n",
    "    elif i == [0.0, 1.0, 0.0, 0.0]:\n",
    "        y_train_final.append(2)\n",
    "    elif i == [0.0, 0.0, 1.0, 0.0]:\n",
    "        y_train_final.append(3)\n",
    "    elif i == [0.0, 0.0, 0.0, 1.0]:\n",
    "        y_train_final.append(4)\n",
    "            \n",
    "y_test_final = []\n",
    "for i in y_test:\n",
    "    if i == [1.0, 0.0, 0.0, 0.0]:\n",
    "        y_test_final.append(1)\n",
    "    elif i == [0.0, 1.0, 0.0, 0.0]:\n",
    "        y_test_final.append(2)\n",
    "    elif i == [0.0, 0.0, 1.0, 0.0]:\n",
    "        y_test_final.append(3)\n",
    "    elif i == [0.0, 0.0, 0.0, 1.0]:\n",
    "        y_test_final.append(4)\n",
    "        \n",
    "y_valid_final = []\n",
    "for i in y_valid:\n",
    "    if i == [1.0, 0.0, 0.0, 0.0]:\n",
    "        y_valid_final.append(1)\n",
    "    elif i == [0.0, 1.0, 0.0, 0.0]:\n",
    "        y_valid_final.append(2)\n",
    "    elif i == [0.0, 0.0, 1.0, 0.0]:\n",
    "        y_valid_final.append(3)\n",
    "    elif i == [0.0, 0.0, 0.0, 1.0]:\n",
    "        y_valid_final.append(4)"
   ]
  },
  {
   "cell_type": "code",
   "execution_count": 6,
   "id": "877e7341",
   "metadata": {},
   "outputs": [
    {
     "name": "stderr",
     "output_type": "stream",
     "text": [
      "/Users/jimmy/opt/anaconda3/lib/python3.9/site-packages/sklearn/linear_model/_logistic.py:763: ConvergenceWarning: lbfgs failed to converge (status=2):\n",
      "ABNORMAL_TERMINATION_IN_LNSRCH.\n",
      "\n",
      "Increase the number of iterations (max_iter) or scale the data as shown in:\n",
      "    https://scikit-learn.org/stable/modules/preprocessing.html\n",
      "Please also refer to the documentation for alternative solver options:\n",
      "    https://scikit-learn.org/stable/modules/linear_model.html#logistic-regression\n",
      "  n_iter_i = _check_optimize_result(\n"
     ]
    }
   ],
   "source": [
    "algorithm.train(X_train, y_train)"
   ]
  },
  {
   "cell_type": "code",
   "execution_count": 7,
   "id": "6457f149",
   "metadata": {},
   "outputs": [],
   "source": [
    "test_result = algorithm.predict(X_test)\n",
    "train_result = algorithm.predict(X_train)\n",
    "valid_result = algorithm.predict(X_valid)"
   ]
  },
  {
   "cell_type": "code",
   "execution_count": 8,
   "id": "e6d00e6d",
   "metadata": {},
   "outputs": [
    {
     "name": "stdout",
     "output_type": "stream",
     "text": [
      "Training Accuracy: 1.0\n",
      "Test Accuracy: 0.9991666666666666\n",
      "Validation Accuracy: 1.0\n"
     ]
    }
   ],
   "source": [
    "print(\"Training Accuracy:\",metrics.accuracy_score(y_train_final, train_result))\n",
    "print(\"Test Accuracy:\",metrics.accuracy_score(y_test_final, test_result))\n",
    "print(\"Validation Accuracy:\",metrics.accuracy_score(y_valid_final, valid_result))"
   ]
  },
  {
   "cell_type": "code",
   "execution_count": 9,
   "id": "e56bbc37",
   "metadata": {},
   "outputs": [],
   "source": [
    "training_check_array = (y_train_final == train_result)\n",
    "testing_check_array = (y_test_final == test_result)\n",
    "validation_check_array = (y_valid_final == valid_result)\n",
    "training_incorrect = []\n",
    "testing_incorrect = []\n",
    "validation_incorrect = []\n",
    "for index, g in enumerate(training_check_array):\n",
    "    if g == False:\n",
    "        training_incorrect.append(index)\n",
    "for index, g in enumerate(testing_check_array):\n",
    "    if g == False:\n",
    "        testing_incorrect.append(index)\n",
    "for index, g in enumerate(validation_check_array):\n",
    "    if g == False:\n",
    "        validation_incorrect.append(index)"
   ]
  },
  {
   "cell_type": "code",
   "execution_count": 14,
   "id": "dc62f7d0",
   "metadata": {},
   "outputs": [
    {
     "name": "stdout",
     "output_type": "stream",
     "text": [
      "[]\n",
      "\n",
      "[796]\n",
      "3\n",
      "1\n",
      "\n",
      "[]\n"
     ]
    }
   ],
   "source": [
    "print(training_incorrect)\n",
    "for i in training_incorrect:\n",
    "    print(y_train_final[i])\n",
    "for i in training_incorrect:\n",
    "    print(train_result[i])\n",
    "print()\n",
    "\n",
    "print(testing_incorrect)\n",
    "for i in testing_incorrect:\n",
    "    print(y_test_final[i])\n",
    "for i in testing_incorrect:\n",
    "    print(test_result[i])\n",
    "print()\n",
    "\n",
    "print(validation_incorrect)\n",
    "for i in validation_incorrect:\n",
    "    print(y_valid_final[i])\n",
    "for i in validation_incorrect:\n",
    "    print(valid_result[i])"
   ]
  },
  {
   "cell_type": "code",
   "execution_count": 13,
   "id": "6dabe877",
   "metadata": {},
   "outputs": [
    {
     "data": {
      "text/plain": [
       "<function matplotlib.pyplot.show(close=None, block=None)>"
      ]
     },
     "execution_count": 13,
     "metadata": {},
     "output_type": "execute_result"
    },
    {
     "data": {
      "image/png": "[encoded data removed]",
      "text/plain": [
       "<Figure size 432x288 with 1 Axes>"
      ]
     },
     "metadata": {
      "needs_background": "light"
     },
     "output_type": "display_data"
    }
   ],
   "source": [
    "from matplotlib import pyplot as plt\n",
    "\n",
    "sum = len(training_incorrect) + len(testing_incorrect) + len(validation_incorrect)\n",
    "fig, ax = plt.subplots(sum,squeeze=False)\n",
    "ax = ax.flatten()\n",
    "plt.yscale('log')\n",
    "plt.xscale('log')\n",
    "i = 0\n",
    "while i < sum:\n",
    "    for j in training_incorrect:\n",
    "        xPoints = np.arange(1,len(X_train[j])+1)\n",
    "        yPoints = X_train[j]\n",
    "        ax[i].plot(xPoints, yPoints)\n",
    "        i += 1\n",
    "    for j in testing_incorrect:\n",
    "        xPoints = np.arange(1,len(X_test[j])+1)\n",
    "        yPoints = X_test[j]\n",
    "        ax[i].plot(xPoints, yPoints)\n",
    "        i += 1\n",
    "    for j in validation_incorrect:\n",
    "        xPoints = np.arange(1,len(X_valid[j])+1)\n",
    "        yPoints = X_valid[j]\n",
    "        ax[i].plot(xPoints, yPoints)\n",
    "        i += 1\n",
    "\n",
    "\n",
    "plt.show\n",
    "\n"
   ]
  },
  {
   "cell_type": "code",
   "execution_count": null,
   "id": "f2fe77ce",
   "metadata": {},
   "outputs": [],
   "source": []
  },
  {
   "cell_type": "code",
   "execution_count": null,
   "id": "7eea0e60",
   "metadata": {},
   "outputs": [],
   "source": []
  }
 ],
 "metadata": {
  "hide_input": false,
  "kernelspec": {
   "display_name": "Python 3 (ipykernel)",
   "language": "python",
   "name": "python3"
  },
  "language_info": {
   "codemirror_mode": {
    "name": "ipython",
    "version": 3
   },
   "file_extension": ".py",
   "mimetype": "text/x-python",
   "name": "python",
   "nbconvert_exporter": "python",
   "pygments_lexer": "ipython3",
   "version": "3.9.7"
  }
 },
 "nbformat": 4,
 "nbformat_minor": 5
}
