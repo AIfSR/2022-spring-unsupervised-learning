{
 "cells": [
  {
   "cell_type": "code",
   "execution_count": 1,
   "id": "16dbc1a0",
   "metadata": {},
   "outputs": [
    {
     "ename": "TypeError",
     "evalue": "display_plots() got an unexpected keyword argument 'xLabel'",
     "output_type": "error",
     "traceback": [
      "\u001b[0;31m---------------------------------------------------------------------------\u001b[0m",
      "\u001b[0;31mTypeError\u001b[0m                                 Traceback (most recent call last)",
      "\u001b[0;32m/var/folders/y9/ws4wqjr135zg_006_wrlcxt00000gn/T/ipykernel_44456/12822522.py\u001b[0m in \u001b[0;36m<module>\u001b[0;34m\u001b[0m\n\u001b[1;32m      4\u001b[0m \u001b[0;34m\u001b[0m\u001b[0m\n\u001b[1;32m      5\u001b[0m \u001b[0;32mfrom\u001b[0m \u001b[0mCreatingGraphs\u001b[0m \u001b[0;32mimport\u001b[0m \u001b[0mcreateGraphsOfRealDataset\u001b[0m\u001b[0;34m\u001b[0m\u001b[0;34m\u001b[0m\u001b[0m\n\u001b[0;32m----> 6\u001b[0;31m \u001b[0mcreateGraphsOfRealDataset\u001b[0m\u001b[0;34m(\u001b[0m\u001b[0;34m)\u001b[0m\u001b[0;34m;\u001b[0m\u001b[0;34m\u001b[0m\u001b[0;34m\u001b[0m\u001b[0m\n\u001b[0m",
      "\u001b[0;32m~/git/2022-spring-unsupervised-learning/savedgraphs/CreatingGraphs.py\u001b[0m in \u001b[0;36mcreateGraphsOfRealDataset\u001b[0;34m()\u001b[0m\n\u001b[1;32m    115\u001b[0m     \u001b[0;32mfor\u001b[0m \u001b[0mi\u001b[0m \u001b[0;32min\u001b[0m \u001b[0mrange\u001b[0m\u001b[0;34m(\u001b[0m\u001b[0mlen\u001b[0m\u001b[0;34m(\u001b[0m\u001b[0mrealDataset\u001b[0m\u001b[0;34m.\u001b[0m\u001b[0mgetCategoriesWithPoints\u001b[0m\u001b[0;34m(\u001b[0m\u001b[0;34m)\u001b[0m\u001b[0;34m)\u001b[0m\u001b[0;34m)\u001b[0m\u001b[0;34m:\u001b[0m\u001b[0;34m\u001b[0m\u001b[0;34m\u001b[0m\u001b[0m\n\u001b[1;32m    116\u001b[0m         \u001b[0;32mfor\u001b[0m \u001b[0mk\u001b[0m \u001b[0;32min\u001b[0m \u001b[0mrange\u001b[0m\u001b[0;34m(\u001b[0m\u001b[0mlen\u001b[0m\u001b[0;34m(\u001b[0m\u001b[0mrealDataset\u001b[0m\u001b[0;34m.\u001b[0m\u001b[0mgetCategoriesWithPoints\u001b[0m\u001b[0;34m(\u001b[0m\u001b[0;34m)\u001b[0m\u001b[0;34m[\u001b[0m\u001b[0mi\u001b[0m\u001b[0;34m]\u001b[0m\u001b[0;34m[\u001b[0m\u001b[0;36m1\u001b[0m\u001b[0;34m]\u001b[0m\u001b[0;34m)\u001b[0m\u001b[0;34m)\u001b[0m\u001b[0;34m:\u001b[0m\u001b[0;34m\u001b[0m\u001b[0;34m\u001b[0m\u001b[0m\n\u001b[0;32m--> 117\u001b[0;31m             FeaturesOverIndices.display_plots(ThreeDMSDFeatureCreator(),\n\u001b[0m\u001b[1;32m    118\u001b[0m                                               \u001b[0mrealDataset\u001b[0m\u001b[0;34m.\u001b[0m\u001b[0mgetCategoriesWithPoints\u001b[0m\u001b[0;34m(\u001b[0m\u001b[0;34m)\u001b[0m\u001b[0;34m[\u001b[0m\u001b[0mi\u001b[0m\u001b[0;34m]\u001b[0m\u001b[0;34m[\u001b[0m\u001b[0;36m1\u001b[0m\u001b[0;34m]\u001b[0m\u001b[0;34m[\u001b[0m\u001b[0mk\u001b[0m\u001b[0;34m]\u001b[0m\u001b[0;34m,\u001b[0m\u001b[0;34m\u001b[0m\u001b[0;34m\u001b[0m\u001b[0m\n\u001b[1;32m    119\u001b[0m                                               realDataset.getCategoriesWithPoints()[i][1][k].title)\n",
      "\u001b[0;32m~/git/2022-spring-unsupervised-learning/plotting/FeaturesOverIndices.py\u001b[0m in \u001b[0;36mdisplay_plots\u001b[0;34m(self, yFeatureCreator, points, imageFile, title)\u001b[0m\n\u001b[1;32m     74\u001b[0m \u001b[0;34m\u001b[0m\u001b[0m\n\u001b[1;32m     75\u001b[0m \u001b[0;34m\u001b[0m\u001b[0m\n\u001b[0;32m---> 76\u001b[0;31m         \u001b[0mself\u001b[0m\u001b[0;34m.\u001b[0m\u001b[0mdisplay_plots\u001b[0m\u001b[0;34m(\u001b[0m\u001b[0mxFeatures\u001b[0m\u001b[0;34m,\u001b[0m \u001b[0myFeatures\u001b[0m\u001b[0;34m,\u001b[0m \u001b[0mimageFile\u001b[0m\u001b[0;34m=\u001b[0m\u001b[0mimageFile\u001b[0m\u001b[0;34m,\u001b[0m \u001b[0mtitle\u001b[0m\u001b[0;34m=\u001b[0m\u001b[0mtitle\u001b[0m\u001b[0;34m,\u001b[0m \u001b[0mxLabel\u001b[0m\u001b[0;34m=\u001b[0m\u001b[0;34m\"Time Step,s\"\u001b[0m\u001b[0;34m,\u001b[0m \u001b[0myLabel\u001b[0m\u001b[0;34m=\u001b[0m\u001b[0mstr\u001b[0m\u001b[0;34m(\u001b[0m\u001b[0myFeatureCreator\u001b[0m\u001b[0;34m)\u001b[0m\u001b[0;34m)\u001b[0m\u001b[0;34m\u001b[0m\u001b[0;34m\u001b[0m\u001b[0m\n\u001b[0m\u001b[1;32m     77\u001b[0m \u001b[0;34m\u001b[0m\u001b[0m\n\u001b[1;32m     78\u001b[0m \u001b[0;34m\u001b[0m\u001b[0m\n",
      "\u001b[0;31mTypeError\u001b[0m: display_plots() got an unexpected keyword argument 'xLabel'"
     ]
    }
   ],
   "source": [
    "import sys\n",
    "import os\n",
    "sys.path.insert(1, \"/\".join(os.getcwd().split(\"/\")[:-1]))\n",
    "\n",
    "from CreatingGraphs import createGraphsOfRealDataset\n",
    "createGraphsOfRealDataset();\n"
   ]
  }
 ],
 "metadata": {
  "hide_input": false,
  "kernelspec": {
   "display_name": "Python 3 (ipykernel)",
   "language": "python",
   "name": "python3"
  },
  "language_info": {
   "codemirror_mode": {
    "name": "ipython",
    "version": 3
   },
   "file_extension": ".py",
   "mimetype": "text/x-python",
   "name": "python",
   "nbconvert_exporter": "python",
   "pygments_lexer": "ipython3",
   "version": "3.9.6"
  }
 },
 "nbformat": 4,
 "nbformat_minor": 5
}
