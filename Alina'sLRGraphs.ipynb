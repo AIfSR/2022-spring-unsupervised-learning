{
 "cells": [
  {
   "cell_type": "code",
   "execution_count": null,
   "id": "07568c09",
   "metadata": {},
   "outputs": [
    {
     "name": "stdout",
     "output_type": "stream",
     "text": [
      "\u001B[1m Accuracy Measurements: \u001B[0m\n",
      "Here is the accuracy of our algorithm when the training set, test set, and cross validation set is passed in\n",
      "\n",
      "Training Accuracy: 1.0\n",
      "Test Accuracy: 0.9991666666666666\n",
      "Validation Accuracy: 0.9983333333333333\n",
      "\n",
      "\n",
      "\u001B[1m Inaccurate Trajectories \u001B[0m\n",
      "Here is some more information on the trajectories it predicted incorrectly. It displays the indexes of the incorrect trajectories, followed by the actual diffusion type and the incorrect predicted diffusion type.\n",
      "\n",
      "1 = Ballistic Diffusion, 2 = Confined Diffusion, 3 = Random Walk, 4 = Very Confined Diffusion\n",
      "\n",
      "Indexes of incorrect predictions in testing: \n",
      "3289, \n",
      "Actual Diffusion Types: \n",
      "3, \n",
      "Incorrect predictions: \n",
      "1, \n",
      "\n",
      "Indexes of incorrect predictions in validation: \n",
      "3746, 3886, \n",
      "Actual Diffusion Types: \n",
      "3, 3, \n",
      "Incorrect predictions: \n",
      "1, 1, \n",
      "\n"
     ]
    }
   ],
   "source": [
    "from CreatingGraphs import createLRGraphs\n",
    "createLRGraphs()"
   ]
  },
  {
   "cell_type": "code",
   "execution_count": null,
   "id": "ac4e5301",
   "metadata": {
    "pycharm": {
     "name": "#%%\n"
    }
   },
   "outputs": [],
   "source": []
  }
 ],
 "metadata": {
  "hide_input": false,
  "kernelspec": {
   "display_name": "Python 3 (ipykernel)",
   "language": "python",
   "name": "python3"
  },
  "language_info": {
   "codemirror_mode": {
    "name": "ipython",
    "version": 3
   },
   "file_extension": ".py",
   "mimetype": "text/x-python",
   "name": "python",
   "nbconvert_exporter": "python",
   "pygments_lexer": "ipython3",
   "version": "3.9.7"
  }
 },
 "nbformat": 4,
 "nbformat_minor": 5
}