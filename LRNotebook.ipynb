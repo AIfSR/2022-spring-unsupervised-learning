{
 "cells": [
  {
   "cell_type": "code",
   "execution_count": 1,
   "id": "89e18c7a",
   "metadata": {},
   "outputs": [
    {
     "name": "stdout",
     "output_type": "stream",
     "text": [
      "\u001B[1m Accuracy Measurements: \u001B[0m\n",
      "Here is the accuracy of our algorithm when the training set, test set, and cross validation set is passed in\n",
      "\n",
      "Training Accuracy: 1.0\n",
      "Test Accuracy: 0.9991666666666666\n",
      "Validation Accuracy: 0.9983333333333333\n",
      "\n",
      "\n",
      "\u001B[1m Inaccurate Trajectories \u001B[0m\n",
      "Here is some more information on the trajectories it predicted incorrectly. It displays the indexes of the incorrect trajectories, followed by the actual diffusion type and the incorrect predicted diffusion type.\n",
      "\n",
      "1 = Ballistic Diffusion, 2 = Confined Diffusion, 3 = Random Walk, 4 = Very Confined Diffusion\n",
      "\n",
      "Indexes of incorrect predictions in testing: \n",
      "3289, \n",
      "Actual Diffusion Types: \n",
      "3, \n",
      "Incorrect predictions: \n",
      "1, \n",
      "\n",
      "Indexes of incorrect predictions in validation: \n",
      "3746, 3886, \n",
      "Actual Diffusion Types: \n",
      "3, 3, \n",
      "Incorrect predictions: \n",
      "1, 1, \n",
      "\n",
      "\u001B[1m Predictions of Dr. Mzyk's Data: \u001B[0m\n",
      "Here is the predictions of our algorithm when Dr. Mzyk's data is passed in\n",
      "\n",
      "M0: 2, 2, 2, 2, 2, 2, 2, 2, 2, 4, 4, 2, 2, 2, 2, \n",
      "M1: 2, 2, 2, 2, 2, 2, 2, 2, 4, 2, 2, 2, 2, 2, 2, 2, 1, \n",
      "M2: 2, 2, 2, 2, 2, 2, 2, 2, 2, 2, 2, 2, 2, 2, 2, 2, 2, 2, 2, \n",
      "\n",
      "\u001B[1m Analytics of Predictions:  \u001B[0m\n",
      "Here is some percentages and information derived from the predictions of the algorithm\n",
      "\n",
      "M0:\t1: 0.00%\t2: 86.667%\t3: 0.000%\t4: 13.333%\n",
      "M1:\t1: 5.88%\t2: 88.235%\t3: 0.000%\t4: 5.882%\n",
      "M2:\t1: 0.00%\t2: 100.000%\t3: 0.000%\t4: 0.000%\n",
      "Ovr:\t1: 1.96%\t2: 92.157%\t3: 0.000%\t4: 5.882%\n"
     ]
    }
   ],
   "source": [
    "from CreatingGraphs import createLRGraphs\n",
    "createLRGraphs()"
   ]
  },
  {
   "cell_type": "code",
   "execution_count": null,
   "id": "7ce78eaa",
   "metadata": {},
   "outputs": [],
   "source": []
  }
 ],
 "metadata": {
  "hide_input": false,
  "kernelspec": {
   "display_name": "Python 3 (ipykernel)",
   "language": "python",
   "name": "python3"
  },
  "language_info": {
   "codemirror_mode": {
    "name": "ipython",
    "version": 3
   },
   "file_extension": ".py",
   "mimetype": "text/x-python",
   "name": "python",
   "nbconvert_exporter": "python",
   "pygments_lexer": "ipython3",
   "version": "3.9.7"
  }
 },
 "nbformat": 4,
 "nbformat_minor": 5
}