{
 "cells": [
  {
   "cell_type": "code",
   "execution_count": null,
   "id": "7a315166",
   "metadata": {
    "scrolled": false
   },
   "outputs": [
    {
     "name": "stdout",
     "output_type": "stream",
     "text": [
      "directory:  /Users/jimmy/Desktop/NYUCS/AIfSR/Github\n",
      "_mainDirectory:  /Users/jimmy/Desktop/NYUCS/AIfSR/Github\n"
     ]
    },
    {
     "name": "stderr",
     "output_type": "stream",
     "text": [
      "/Users/jimmy/opt/anaconda3/lib/python3.9/site-packages/sklearn/linear_model/_logistic.py:763: ConvergenceWarning: lbfgs failed to converge (status=2):\n",
      "ABNORMAL_TERMINATION_IN_LNSRCH.\n",
      "\n",
      "Increase the number of iterations (max_iter) or scale the data as shown in:\n",
      "    https://scikit-learn.org/stable/modules/preprocessing.html\n",
      "Please also refer to the documentation for alternative solver options:\n",
      "    https://scikit-learn.org/stable/modules/linear_model.html#logistic-regression\n",
      "  n_iter_i = _check_optimize_result(\n"
     ]
    },
    {
     "name": "stdout",
     "output_type": "stream",
     "text": [
      "\u001B[1m Accuracy Measurements: \u001B[0m\n",
      "Here is the accuracy of our algorithm when the training set, test set, and cross validation set is passed in\n",
      "\n",
      "Training Accuracy: 0.9997222222222222\n",
      "Test Accuracy: 0.9983333333333333\n",
      "Validation Accuracy: 0.995\n",
      "\n",
      "\n",
      "\u001B[1m Inaccurate Trajectories \u001B[0m\n",
      "Here is some more information on the trajectories it predicted incorrectly. It displays the indexes of the incorrect trajectories, followed by the actual diffusion type and the incorrect predicted diffusion type.\n",
      "\n",
      "1 = Ballistic Diffusion, 2 = Confined Diffusion, 3 = Random Walk, 4 = Very Confined Diffusion\n",
      "\n",
      "Indexes of incorrect predictions in training: \n",
      "2413, \n",
      "Actual Diffusion Types: \n",
      "2, \n",
      "Incorrect predictions: \n",
      "3, \n",
      "\n",
      "Indexes of incorrect predictions in testing: \n",
      "2717, 2719, \n",
      "Actual Diffusion Types: \n",
      "2, 2, \n",
      "Incorrect predictions: \n",
      "3, 3, \n",
      "\n",
      "Indexes of incorrect predictions in validation: \n",
      "2049, 2103, 2968, 3746, 4331, 1675, \n",
      "Actual Diffusion Types: \n",
      "2, 2, 2, 3, 3, 2, \n",
      "Incorrect predictions: \n",
      "3, 3, 3, 1, 1, 3, \n",
      "\n"
     ]
    }
   ],
   "source": [
    "import sys\n",
    "import os\n",
    "directory =  \"/\".join(os.getcwd().split(\"/\")[:-1])\n",
    "print(\"directory: \" , directory)\n",
    "sys.path.insert(1, directory)\n",
    "from algorithms.LogisticRegression import LogisticRegression\n",
    "\n",
    "from CreateAlgorithmAnalysisMD import createAnalysisDocument\n",
    "\n",
    "createAnalysisDocument(LogisticRegression())\n"
   ]
  },
  {
   "cell_type": "code",
   "execution_count": null,
   "id": "b5eba610",
   "metadata": {},
   "outputs": [],
   "source": []
  },
  {
   "cell_type": "code",
   "execution_count": null,
   "id": "9b51cee2",
   "metadata": {},
   "outputs": [],
   "source": []
  }
 ],
 "metadata": {
  "hide_input": false,
  "kernelspec": {
   "display_name": "Python 3 (ipykernel)",
   "language": "python",
   "name": "python3"
  },
  "language_info": {
   "codemirror_mode": {
    "name": "ipython",
    "version": 3
   },
   "file_extension": ".py",
   "mimetype": "text/x-python",
   "name": "python",
   "nbconvert_exporter": "python",
   "pygments_lexer": "ipython3",
   "version": "3.9.7"
  }
 },
 "nbformat": 4,
 "nbformat_minor": 5
}