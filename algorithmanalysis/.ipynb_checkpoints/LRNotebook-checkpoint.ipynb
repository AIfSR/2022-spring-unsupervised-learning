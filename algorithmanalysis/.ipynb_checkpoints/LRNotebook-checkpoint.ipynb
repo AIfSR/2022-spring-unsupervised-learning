{
 "cells": [
  {
   "cell_type": "code",
   "execution_count": 1,
   "id": "7a315166",
   "metadata": {
    "scrolled": false
   },
   "outputs": [
    {
     "name": "stdout",
     "output_type": "stream",
     "text": [
      "directory:  /Users/jimmy/Desktop/NYUCS/AIfSR/Github\n",
      "\u001b[1m Accuracy Measurements: \u001b[0m\n",
      "Here is the accuracy of our algorithm when the training set, test set, and cross validation set is passed in\n",
      "\n",
      "Training Accuracy: 0.9997222222222222\n",
      "Test Accuracy: 1.0\n",
      "Validation Accuracy: 0.9991666666666666\n",
      "\n",
      "\n",
      "\u001b[1m Inaccurate Trajectories \u001b[0m\n",
      "Here is some more information on the trajectories it predicted incorrectly. It displays the indexes of the incorrect trajectories, followed by the actual diffusion type and the incorrect predicted diffusion type.\n",
      "\n",
      "1 = Ballistic Diffusion, 2 = Confined Diffusion, 3 = Random Walk, 4 = Very Confined Diffusion\n",
      "\n",
      "Indexes of incorrect predictions in training: \n",
      "3981, \n",
      "Actual Diffusion Types: \n",
      "3, \n",
      "Incorrect predictions: \n",
      "2, \n",
      "\n",
      "Indexes of incorrect predictions in validation: \n",
      "3746, \n",
      "Actual Diffusion Types: \n",
      "3, \n",
      "Incorrect predictions: \n",
      "1, \n",
      "\n",
      "\u001b[1m Predictions of Dr. Mzyk's Data: \u001b[0m\n",
      "Here is the predictions of our algorithm when Dr. Mzyk's data is passed in\n",
      "\n",
      "M0: 3, 3, 3, 3, 3, 3, 3, 3, 3, 3, 3, 3, 3, 3, 1, \n",
      "M1: 3, 3, 3, 3, 3, 3, 3, 3, 3, 3, 3, 3, 3, 3, 3, 3, 1, \n",
      "M2: 3, 3, 3, 3, 3, 3, 3, 3, 3, 3, 3, 3, 3, 3, 3, 3, 3, 1, 3, \n",
      "\n",
      "\u001b[1m Analytics of Predictions:  \u001b[0m\n",
      "Here is some percentages and information derived from the predictions of the algorithm\n",
      "\n",
      "M0:\t1: 6.667%\t2: 0.000%\t3: 93.333%\t4: 0.000%\n",
      "M1:\t1: 5.882%\t2: 0.000%\t3: 94.118%\t4: 0.000%\n",
      "M2:\t1: 5.263%\t2: 0.000%\t3: 94.737%\t4: 0.000%\n",
      "Ovr:\t1: 5.882%\t2: 0.000%\t3: 94.118%\t4: 0.000%\n"
     ]
    }
   ],
   "source": [
    "import sys\n",
    "import os\n",
    "directory =  \"/\".join(os.getcwd().split(\"/\")[:-1])\n",
    "print(\"directory: \" , directory)\n",
    "sys.path.insert(1, directory)\n",
    "from algorithms.LogisticRegression import LogisticRegression\n",
    "\n",
    "from CreateAlgorithmAnalysisMD import createAnalysisDocument\n",
    "\n",
    "createAnalysisDocument(LogisticRegression())\n"
   ]
  },
  {
   "cell_type": "code",
   "execution_count": null,
   "id": "11b1dc96",
   "metadata": {},
   "outputs": [],
   "source": [
    "2:\n",
    "Training Accuracy: 0.9997222222222222\n",
    "Test Accuracy: 1.0\n",
    "Validation Accuracy: 0.9991666666666666"
   ]
  },
  {
   "cell_type": "code",
   "execution_count": null,
   "id": "b917367e",
   "metadata": {},
   "outputs": [],
   "source": []
  }
 ],
 "metadata": {
  "hide_input": false,
  "kernelspec": {
   "display_name": "Python 3 (ipykernel)",
   "language": "python",
   "name": "python3"
  },
  "language_info": {
   "codemirror_mode": {
    "name": "ipython",
    "version": 3
   },
   "file_extension": ".py",
   "mimetype": "text/x-python",
   "name": "python",
   "nbconvert_exporter": "python",
   "pygments_lexer": "ipython3",
   "version": "3.9.7"
  }
 },
 "nbformat": 4,
 "nbformat_minor": 5
}
